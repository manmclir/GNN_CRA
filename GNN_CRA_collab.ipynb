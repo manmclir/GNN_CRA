{
  "nbformat": 4,
  "nbformat_minor": 0,
  "metadata": {
    "colab": {
      "name": "GNN_CRA_collab.ipynb",
      "provenance": [],
      "collapsed_sections": []
    },
    "kernelspec": {
      "name": "python3",
      "display_name": "Python 3"
    },
    "language_info": {
      "name": "python"
    }
  },
  "cells": [
    {
      "cell_type": "code",
      "execution_count": 1,
      "metadata": {
        "colab": {
          "base_uri": "https://localhost:8080/"
        },
        "id": "hgV98alAS0Fb",
        "outputId": "82685221-a3e6-49ab-c470-bfcebb62a9e3"
      },
      "outputs": [
        {
          "output_type": "stream",
          "name": "stdout",
          "text": [
            "Looking in links: https://data.pyg.org/whl/torch-1.10.0+cu111.html\n",
            "Collecting torch-scatter\n",
            "  Downloading https://data.pyg.org/whl/torch-1.10.0%2Bcu113/torch_scatter-2.0.9-cp37-cp37m-linux_x86_64.whl (7.9 MB)\n",
            "\u001b[K     |████████████████████████████████| 7.9 MB 3.9 MB/s \n",
            "\u001b[?25hCollecting torch-sparse\n",
            "  Downloading https://data.pyg.org/whl/torch-1.10.0%2Bcu113/torch_sparse-0.6.12-cp37-cp37m-linux_x86_64.whl (3.5 MB)\n",
            "\u001b[K     |████████████████████████████████| 3.5 MB 37.2 MB/s \n",
            "\u001b[?25hCollecting torch-cluster\n",
            "  Downloading https://data.pyg.org/whl/torch-1.10.0%2Bcu113/torch_cluster-1.5.9-cp37-cp37m-linux_x86_64.whl (2.3 MB)\n",
            "\u001b[K     |████████████████████████████████| 2.3 MB 38.9 MB/s \n",
            "\u001b[?25hCollecting torch-spline-conv\n",
            "  Downloading https://data.pyg.org/whl/torch-1.10.0%2Bcu113/torch_spline_conv-1.2.1-cp37-cp37m-linux_x86_64.whl (747 kB)\n",
            "\u001b[K     |████████████████████████████████| 747 kB 22.5 MB/s \n",
            "\u001b[?25hCollecting torch-geometric\n",
            "  Downloading torch_geometric-2.0.3.tar.gz (370 kB)\n",
            "\u001b[K     |████████████████████████████████| 370 kB 4.4 MB/s \n",
            "\u001b[?25hRequirement already satisfied: scipy in /usr/local/lib/python3.7/dist-packages (from torch-sparse) (1.4.1)\n",
            "Requirement already satisfied: numpy in /usr/local/lib/python3.7/dist-packages (from torch-geometric) (1.19.5)\n",
            "Requirement already satisfied: tqdm in /usr/local/lib/python3.7/dist-packages (from torch-geometric) (4.62.3)\n",
            "Requirement already satisfied: networkx in /usr/local/lib/python3.7/dist-packages (from torch-geometric) (2.6.3)\n",
            "Requirement already satisfied: scikit-learn in /usr/local/lib/python3.7/dist-packages (from torch-geometric) (1.0.2)\n",
            "Requirement already satisfied: requests in /usr/local/lib/python3.7/dist-packages (from torch-geometric) (2.23.0)\n",
            "Requirement already satisfied: pandas in /usr/local/lib/python3.7/dist-packages (from torch-geometric) (1.1.5)\n",
            "Collecting rdflib\n",
            "  Downloading rdflib-6.1.1-py3-none-any.whl (482 kB)\n",
            "\u001b[K     |████████████████████████████████| 482 kB 46.6 MB/s \n",
            "\u001b[?25hRequirement already satisfied: googledrivedownloader in /usr/local/lib/python3.7/dist-packages (from torch-geometric) (0.4)\n",
            "Requirement already satisfied: jinja2 in /usr/local/lib/python3.7/dist-packages (from torch-geometric) (2.11.3)\n",
            "Requirement already satisfied: pyparsing in /usr/local/lib/python3.7/dist-packages (from torch-geometric) (3.0.7)\n",
            "Collecting yacs\n",
            "  Downloading yacs-0.1.8-py3-none-any.whl (14 kB)\n",
            "Requirement already satisfied: PyYAML in /usr/local/lib/python3.7/dist-packages (from torch-geometric) (3.13)\n",
            "Requirement already satisfied: MarkupSafe>=0.23 in /usr/local/lib/python3.7/dist-packages (from jinja2->torch-geometric) (2.0.1)\n",
            "Requirement already satisfied: python-dateutil>=2.7.3 in /usr/local/lib/python3.7/dist-packages (from pandas->torch-geometric) (2.8.2)\n",
            "Requirement already satisfied: pytz>=2017.2 in /usr/local/lib/python3.7/dist-packages (from pandas->torch-geometric) (2018.9)\n",
            "Requirement already satisfied: six>=1.5 in /usr/local/lib/python3.7/dist-packages (from python-dateutil>=2.7.3->pandas->torch-geometric) (1.15.0)\n",
            "Requirement already satisfied: importlib-metadata in /usr/local/lib/python3.7/dist-packages (from rdflib->torch-geometric) (4.10.1)\n",
            "Collecting isodate\n",
            "  Downloading isodate-0.6.1-py2.py3-none-any.whl (41 kB)\n",
            "\u001b[K     |████████████████████████████████| 41 kB 565 kB/s \n",
            "\u001b[?25hRequirement already satisfied: setuptools in /usr/local/lib/python3.7/dist-packages (from rdflib->torch-geometric) (57.4.0)\n",
            "Requirement already satisfied: zipp>=0.5 in /usr/local/lib/python3.7/dist-packages (from importlib-metadata->rdflib->torch-geometric) (3.7.0)\n",
            "Requirement already satisfied: typing-extensions>=3.6.4 in /usr/local/lib/python3.7/dist-packages (from importlib-metadata->rdflib->torch-geometric) (3.10.0.2)\n",
            "Requirement already satisfied: certifi>=2017.4.17 in /usr/local/lib/python3.7/dist-packages (from requests->torch-geometric) (2021.10.8)\n",
            "Requirement already satisfied: chardet<4,>=3.0.2 in /usr/local/lib/python3.7/dist-packages (from requests->torch-geometric) (3.0.4)\n",
            "Requirement already satisfied: idna<3,>=2.5 in /usr/local/lib/python3.7/dist-packages (from requests->torch-geometric) (2.10)\n",
            "Requirement already satisfied: urllib3!=1.25.0,!=1.25.1,<1.26,>=1.21.1 in /usr/local/lib/python3.7/dist-packages (from requests->torch-geometric) (1.24.3)\n",
            "Requirement already satisfied: threadpoolctl>=2.0.0 in /usr/local/lib/python3.7/dist-packages (from scikit-learn->torch-geometric) (3.0.0)\n",
            "Requirement already satisfied: joblib>=0.11 in /usr/local/lib/python3.7/dist-packages (from scikit-learn->torch-geometric) (1.1.0)\n",
            "Building wheels for collected packages: torch-geometric\n",
            "  Building wheel for torch-geometric (setup.py) ... \u001b[?25l\u001b[?25hdone\n",
            "  Created wheel for torch-geometric: filename=torch_geometric-2.0.3-py3-none-any.whl size=581968 sha256=5d2fd8136bb1bf36d664d18bdb2b5bf9700c5cce1a136b799f02692d0839b909\n",
            "  Stored in directory: /root/.cache/pip/wheels/c3/2a/58/87ce0508964d4def1aafb92750c4f3ac77038efd1b9a89dcf5\n",
            "Successfully built torch-geometric\n",
            "Installing collected packages: isodate, yacs, rdflib, torch-spline-conv, torch-sparse, torch-scatter, torch-geometric, torch-cluster\n",
            "Successfully installed isodate-0.6.1 rdflib-6.1.1 torch-cluster-1.5.9 torch-geometric-2.0.3 torch-scatter-2.0.9 torch-sparse-0.6.12 torch-spline-conv-1.2.1 yacs-0.1.8\n"
          ]
        }
      ],
      "source": [
        "! pip install torch-scatter torch-sparse torch-cluster torch-spline-conv torch-geometric -f https://data.pyg.org/whl/torch-1.10.0+cu111.html"
      ]
    },
    {
      "cell_type": "code",
      "source": [
        "import torch\n",
        "import torch_scatter\n",
        "import torch_sparse\n",
        "import torch_geometric\n",
        "import tqdm.auto\n",
        "import os\n",
        "from operator import itemgetter\n",
        "\n",
        "import numpy as np\n",
        "import pandas as pd\n",
        "import matplotlib.pyplot as plt\n",
        "import networkx as nx\n",
        "import re\n",
        "\n",
        "import csv"
      ],
      "metadata": {
        "id": "ri4veG96hud2"
      },
      "execution_count": 2,
      "outputs": []
    },
    {
      "cell_type": "code",
      "source": [
        "\n",
        "### A simple Message-Passing network w/ common aggregation schemes.\n",
        "class Simple_GNN(torch.nn.Module):\n",
        "\n",
        "    def __init__(self,in_features,int_features,out_features,depth,aggregation_mode = 'mean',dropout_prob = .1):\n",
        "        '''\n",
        "        [in_features]       - # of input features.\n",
        "        [int_features]      - # of features in message-passing layers. Within the \n",
        "                              GNN literature, this is typically a constant.\n",
        "        [out_features]      - # of output features. Corresponds to # of classes,\n",
        "                              regression targets, etc.\n",
        "        [depth]             - # of message-passing layers. \n",
        "        [aggregation_mode]  - choice of aggregation scheme. Can be 'mean',\n",
        "                              'sum', 'max', or 'none'\n",
        "        [dropout_prob]      - probability used for Dropout (see Srivastava et al., 2017)\n",
        "        '''\n",
        "\n",
        "        super(Simple_GNN,self).__init__()\n",
        "        assert aggregation_mode in ['mean','sum','max','none']\n",
        "\n",
        "        self.f_in = torch.nn.Linear(in_features,int_features)\n",
        "        self.f_int = torch.nn.ModuleList([torch.nn.Sequential(*[torch.nn.Linear(int_features,int_features),\n",
        "                                                                torch.nn.LeakyReLU(),\n",
        "                                                                torch.nn.Dropout(dropout_prob)])\n",
        "                                              for _ in range(depth)])\n",
        "        self.f_out = torch.nn.Linear(int_features,out_features)\n",
        "\n",
        "        if aggregation_mode == 'mean': self.agg = torch_scatter.scatter_mean\n",
        "        elif aggregation_mode == 'sum': self.agg = torch_scatter.scatter_sum\n",
        "        elif aggregation_mode == 'max': self.agg = torch_scatter.scatter_max\n",
        "\n",
        "        self.aggregation_mode = aggregation_mode\n",
        "\n",
        "    def forward(self,node_features,edge_index,edge_weights = None):\n",
        "        '''\n",
        "        [node_features]  - Matrix of node features. First (batch) dimension corresponds\n",
        "                           to nodes; second to features.\n",
        "        [edge_index]     - Edge list representation of a graph. Shape [num_edges]x2\n",
        "        [edge_weights]   - Optional scalar edge weights. Shape [num_edges,1]\n",
        "        '''\n",
        "\n",
        "        node_features = self.f_in(node_features)\n",
        "        for idx,layer in enumerate(self.f_int):\n",
        "            if self.aggregation_mode is not 'none':\n",
        "                if edge_weights is not None:\n",
        "                    aggregated_node_features = self.agg(edge_weights * node_features[edge_index[:,0]],\n",
        "                                                                    edge_index[:,1],dim=0)\n",
        "                else:\n",
        "                    aggregated_node_features = self.agg(node_features[edge_index[:,0]],edge_index[:,1],dim=0) \n",
        "            else:\n",
        "                aggregated_node_features = node_features\n",
        "                \n",
        "            if isinstance(aggregated_node_features,tuple): \n",
        "                aggregated_node_features = aggregated_node_features[0]\n",
        "\n",
        "            node_features = node_features + layer(aggregated_node_features)\n",
        "        return self.f_out(node_features),node_features"
      ],
      "metadata": {
        "id": "Ur6JG41t5KxW"
      },
      "execution_count": 3,
      "outputs": []
    },
    {
      "cell_type": "code",
      "source": [
        "### General purpose object for storing graph data\n",
        "class Graph(object):\n",
        "    def __init__(self,edge_index = None,edge_metadata = None,node_metadata = None):\n",
        "        self.edge_index = edge_index\n",
        "        self.edge_metadata = edge_metadata\n",
        "        self.node_metadata = node_metadata\n",
        "        self.num_nodes = None\n",
        "\n",
        "    def read_edges(self,filepath):\n",
        "        ''' Edges should be stored as follows:\n",
        "            0 1 3.1 2.0\n",
        "            0 2 1.0 0.0\n",
        "            1 0 3.1 2.0\n",
        "            ...\n",
        "        where the first two columns are node indices and the remainder\n",
        "        are edge features. '''\n",
        "\n",
        "        with open(filepath,'r') as f:\n",
        "          edges = torch.Tensor([list(map(float,line.strip().split(' '))) \\\n",
        "                                         for line in f.readlines()])\n",
        "        if edges.shape[1] == 2:\n",
        "          self.edge_index = edges.long()\n",
        "        elif edges.shape[1] >= 3:\n",
        "          self.edge_index = edges[:,:2].long()\n",
        "          self.edge_metadata = edges[:,2::]\n",
        "                      \n",
        "    def read_node_metadata(self,filepath,padding_value = 0.0):\n",
        "        ''' Nodes should be stored as follows:\n",
        "            0 4.1 9.2 1.1 ...\n",
        "            2 3.3 1.1 9.0 ...\n",
        "            ...\n",
        "        where the first column is the node index and the remainder\n",
        "        are node features. If a node is not listed but should still \n",
        "        clearly exist (e.g, nodes '0' and '2' are present in the file\n",
        "        but not node '1'), the missing node is given constant features \n",
        "        set to [padding_value]'''\n",
        "\n",
        "        with open(filepath,'r') as f:\n",
        "          nodes = torch.Tensor([list(map(float,line.strip().split(' '))) \\\n",
        "                                         for line in f.readlines()])\n",
        "          \n",
        "        self.num_nodes = 1 + nodes[:,0].max().long()\n",
        "        node_metadata = padding_value * torch.ones((self.num_nodes,nodes.shape[1]-1))\n",
        "        node_metadata[nodes[:,0].long()] = nodes[:,1::]   #GE\n",
        "\n",
        "        self.node_metadata = node_metadata"
      ],
      "metadata": {
        "id": "bbFASxUS5LiE"
      },
      "execution_count": 4,
      "outputs": []
    },
    {
      "cell_type": "code",
      "source": [
        "### Dataset consisting of multiple _Graph_ objects\n",
        "class GraphsDataset(object):\n",
        "    ''' Graph metadata is expected to be saved \n",
        "        under [graph_dir]/[...]/edges.txt and\n",
        "        [graph_dir]/[...]/nodes.txt.\n",
        "    ******* Optional Arguments *********\n",
        "    [add_self_loops] - Add self loop to each graph. \n",
        "                       This tends to improve importance,\n",
        "                       and it resolves issues with \n",
        "                       disconnected nodes.\n",
        "    '''\n",
        "    def __init__(self,graph_dir,add_self_loops = True):\n",
        "        self.root = graph_dir\n",
        "        self.graphs = os.listdir(graph_dir)\n",
        "        self.add_self_loops = add_self_loops\n",
        "    def __len__(self):\n",
        "        return len(self.graphs)\n",
        "    def __getitem__(self,idx):\n",
        "        G = Graph()\n",
        "        G.read_edges(self.root + '/' + self.graphs[idx]+'/edges.txt')\n",
        "        G.read_node_metadata(self.root + '/' + self.graphs[idx]+'/nodes.txt')\n",
        "\n",
        "        if self.add_self_loops:\n",
        "            self_loops = torch.cat((torch.arange(G.num_nodes)[:,None],torch.arange(G.num_nodes)[:,None]),dim=-1)\n",
        "            G.edge_index = torch.cat((G.edge_index,self_loops),dim=0)\n",
        "            G.edge_metadata = torch.cat((G.edge_metadata,torch.ones((G.num_nodes,1))),dim=0)\n",
        "        return G \n",
        "\n",
        "### Helper function to construct batches of graphs. We assume the user wants to\n",
        "### perform graph-level tasks, and so our target variable is chosen as\n",
        "### G.node_metadata[0,0] i.e, the first feature of the first node.\n",
        "def collate_fn(data):\n",
        "    c,n = 0,0\n",
        "    for idx,G in enumerate(data):\n",
        "        if idx == 0: \n",
        "            X,Y = G.node_metadata[:,1::],G.node_metadata[0,0][None]\n",
        "            edge_index,edge_weights = G.edge_index,G.edge_metadata\n",
        "            batch_index = c * torch.ones(G.num_nodes)\n",
        "        else:\n",
        "            X = torch.cat((X,G.node_metadata[:,1::]),dim=0)\n",
        "            Y = torch.cat((Y,G.node_metadata[0,0][None]),dim=0)\n",
        "\n",
        "            edge_index = torch.cat((edge_index,n + G.edge_index),dim=0)\n",
        "            edge_weights = torch.cat((edge_weights,G.edge_metadata),dim=0)\n",
        "            batch_index = torch.cat((batch_index,c * torch.ones(G.num_nodes)),dim=0)\n",
        "        n += G.num_nodes\n",
        "        c += 1\n",
        "\n",
        "    return {'X':X,'edge_index':edge_index,'edge_weights':edge_weights,'Y':Y.long(),'batch_index':batch_index.long()}"
      ],
      "metadata": {
        "id": "X35Kqq8K5LsG"
      },
      "execution_count": 5,
      "outputs": []
    },
    {
      "cell_type": "code",
      "source": [
        "### Call to fit node-level model and save results\n",
        "class GNN_Node_Trainer(object):\n",
        "    def __init__(self,graph,**kwargs):\n",
        "        '''\n",
        "        [graph]  - Instance of _Graph_. Expects to be fully initialized. \n",
        "        ******* Optional Arguments *********\n",
        "        [train_index],[test_index] - Partitions graph into train and test sets.\n",
        "                                     Defaults to random 60%/40% split.\n",
        "        [num_epochs]               - # of epochs to train. Defaults to 20.\n",
        "        [loss_func]                - Loss function to minimize. Defaults to \n",
        "                                     Cross Entropy.\n",
        "        [random_seed]              - Defaults to 0. \n",
        "        '''\n",
        "        torch.manual_seed(kwargs.get('random_seed',0))\n",
        "\n",
        "        assert isinstance(graph,Graph)        \n",
        "        self.graph = graph\n",
        "\n",
        "        ### If train_index and test_index are not provided, we randomly\n",
        "        ### select a train/test split.\n",
        "        r = torch.randperm(graph.num_nodes)\n",
        "        self.train_index,self.test_index = kwargs.get('train_index',r[:int(.6 * len(r))]),\\\n",
        "                                  kwargs.get('test_index',r[int(.6 * len(r))::])\n",
        "\n",
        "        self.num_epochs = kwargs.get('num_epochs',20)\n",
        "        self.loss_func = kwargs.get('loss_func',lambda x,y,*args: torch.nn.functional.cross_entropy(x,y.long()))\n",
        "\n",
        "    def __call__(self,model,**kwargs):\n",
        "        '''\n",
        "        [model]  - i.e, our GNN \n",
        "        ******* Optional Arguments *********\n",
        "        [lr],[beta],['weight_decay'] - Optimizer parameters. Default to 1e-3, (.9,.999), \n",
        "                                       and 1e-2.\n",
        "        [quiet]                      - Boolean. Disables logging to stdout\n",
        "        [metrics_callback]           - Dict of functions to compute additional metrics.\n",
        "        [title]                      - Saves metrics and model ckpt to 'gnn_results/[title]'\n",
        "                                       at end of training. Defaults to 'run_0'.\n",
        "        [device]                     - Should be 'cpu' or 'cuda:0'. Defaults to 'cpu'.\n",
        "\n",
        "        Note: We assume the first column of 'self.graph.node_metedata' to be our \n",
        "        target values.\n",
        "        '''\n",
        "        opt = torch.optim.Adam(model.parameters(),lr=kwargs.get('lr',1e-3),\n",
        "                                        betas = kwargs.get('beta',(0.9, 0.999)),\n",
        "                                        weight_decay=kwargs.get('weight_decay',1e-2)\n",
        "                                )\n",
        "\n",
        "        device = torch.device(kwargs.get('device','cpu'))\n",
        "        model.to(device)\n",
        "\n",
        "        ### Load data to device.\n",
        "        node_features,edge_index,edge_weights = self.graph.node_metadata.to(device),\\\n",
        "                                                    self.graph.edge_index.to(device),\\\n",
        "                                                    self.graph.edge_metadata.to(device)\n",
        "        X,Y = node_features[:,1::].to(device),node_features[:,0].to(device)\n",
        "\n",
        "        metrics = {'train_loss':[],'test_loss':[]}\n",
        "        metrics_callback = kwargs.get('metrics_callback',{})\n",
        "        for key in metrics_callback.keys(): \n",
        "            metrics['train_'+key] = []\n",
        "            metrics['test_'+key] = []\n",
        "\n",
        "        pbar = tqdm.tqdm(range(self.num_epochs),position=0,disable=kwargs.get('quiet',False))\n",
        "        for idx in pbar:\n",
        "            ### Get predictions and compute losses over train and test sets.\n",
        "            predictions,_ = model(X,edge_index,edge_weights)\n",
        "            train_loss,test_loss = self.loss_func(predictions[self.train_index],Y[self.train_index],\n",
        "                                                  edge_index,edge_weights),\\\n",
        "                                          self.loss_func(predictions[self.test_index],Y[self.test_index],\n",
        "                                                  edge_index,edge_weights)\n",
        "\n",
        "            pbar.set_description(f'Train Loss: {train_loss.item():.3f}\\tTest Loss: {test_loss.item():.3f}')\n",
        "            if torch.isnan(train_loss): raise ValueError('Training loss is NaN')\n",
        "\n",
        "            ### Backpropagate w.r.t training loss\n",
        "            train_loss.backward()\n",
        "            opt.step()\n",
        "            opt.zero_grad()\n",
        "\n",
        "            ### Save losses and compute additional metrics\n",
        "            metrics['train_loss'].append(train_loss.item())\n",
        "            metrics['test_loss'].append(test_loss.item())\n",
        "            for key in metrics_callback.keys():\n",
        "                metrics['train_'+key].append(metrics_callback[key](predictions[self.train_index],Y[self.train_index],\n",
        "                                                        edge_index,edge_weights))\n",
        "                metrics['test_'+key].append(metrics_callback[key](predictions[self.test_index],Y[self.test_index],\n",
        "                                                        edge_index,edge_weights))\n",
        "\n",
        "        os.makedirs('gnn_results',exist_ok=True)\n",
        "        title = kwargs.get('title','run_0')\n",
        "        os.makedirs('gnn_results/{}'.format(title),exist_ok=True)\n",
        "        torch.save(model.state_dict(),'gnn_results/{}/ckpt'.format(title))\n",
        "        torch.save(metrics,'gnn_results/{}/metrics'.format(title))\n",
        "\n",
        "        return predictions"
      ],
      "metadata": {
        "id": "jlZHR5Gw5Lz1"
      },
      "execution_count": 6,
      "outputs": []
    },
    {
      "cell_type": "code",
      "source": [
        "### Call to fit graph-level model and save results\n",
        "class GNN_Graph_Trainer(object):\n",
        "    def __init__(self,graphs,collate_fn,**kwargs):\n",
        "        '''\n",
        "        [graphs]      - Instance of _GraphsDataset_. Expects to be fully initialized. \n",
        "        [collate_fn]  - Collate function for batching purposes.\n",
        "        ******* Optional Arguments *********\n",
        "        [batch_size]               - Number of graphs per train/val batch. Defaults\n",
        "                                     to 50.\n",
        "        [train_%]                  - Pct. split into train set. Defaults to 80%/20%.\n",
        "        [num_epochs]               - # of epochs to train. Defaults to 20.\n",
        "        [loss_func]                - Loss function to minimize. Defaults to \n",
        "                                     Cross Entropy. \n",
        "        [random_seed]              - Defaults to 0.\n",
        "        '''\n",
        "        torch.manual_seed(kwargs.get('random_seed',0))\n",
        "\n",
        "        assert isinstance(graphs,GraphsDataset)\n",
        "        self.graphs = graphs\n",
        "        self.collate_fn = collate_fn\n",
        "\n",
        "        self.train_pct = kwargs.get('train_%',.8)\n",
        "\n",
        "        self.batch_size = kwargs.get('batch_size',50)\n",
        "        self.num_epochs = kwargs.get('num_epochs',20)\n",
        "        self.loss_func = kwargs.get('loss_func',lambda x,y,*args: torch.nn.functional.cross_entropy(x,y.long()))\n",
        "\n",
        "    def __call__(self,model,**kwargs):\n",
        "        '''\n",
        "        [model]  - i.e, our GNN \n",
        "        ******* Optional Arguments *********\n",
        "        [lr],[beta],['weight_decay'] - Optimizer parameters. Default to 1e-3, (.9,.999), \n",
        "                                       and 1e-2.\n",
        "        [quiet]                      - Boolean. Disables logging to stdout\n",
        "        [metrics_callback]           - Dict of functions to compute additional metrics.\n",
        "        [title]                      - Saves metrics and model ckpt to 'gnn_results/[title]'\n",
        "                                       at end of training. Defaults to 'run_0'.\n",
        "        [device]                     - Should be 'cpu' or 'cuda:0'. Defaults to 'cpu'.\n",
        "\n",
        "        Note: We assume 'self.graphs[idx].node_metedata[0,0]' \n",
        "        to be our target value for all idx \\in [0,len(self.graphs)] .\n",
        "        '''\n",
        "        opt = torch.optim.Adam(model.parameters(),lr=kwargs.get('lr',1e-3),\n",
        "                                        betas = kwargs.get('beta',(0.9, 0.999)),\n",
        "                                        weight_decay=kwargs.get('weight_decay',1e-2)\n",
        "                                )\n",
        "\n",
        "        device = torch.device(kwargs.get('device','cpu'))\n",
        "        model.to(device)\n",
        "        \n",
        "        ### Generate train/test split.\n",
        "        train,test = torch.utils.data.random_split(self.graphs,[int(len(self.graphs) * self.train_pct),\n",
        "                                                               len(self.graphs) - int(len(self.graphs) * self.train_pct)]\n",
        "                                                  )\n",
        "        train_loader,test_loader = torch.utils.data.DataLoader(train,batch_size=self.batch_size,shuffle=True,collate_fn=self.collate_fn),\\\n",
        "                              torch.utils.data.DataLoader(test,batch_size=self.batch_size,shuffle=True,collate_fn=self.collate_fn)\n",
        "\n",
        "        metrics = {'train_loss':[],'test_loss':[]}\n",
        "        metrics_callback = kwargs.get('metrics_callback',{})\n",
        "        for key in metrics_callback.keys(): \n",
        "            metrics['train_'+key] = []\n",
        "            metrics['test_'+key] = []\n",
        "\n",
        "        pbar = tqdm.tqdm(range(self.num_epochs),position=0,disable=kwargs.get('quiet',False))\n",
        "        for idx in pbar:\n",
        "\n",
        "            ### Training loop\n",
        "            model.train()\n",
        "            for data in train_loader:\n",
        "                X,Y,edge_index,edge_weights,batch_index = data['X'].to(device),data['Y'].to(device),data['edge_index'].to(device),\\\n",
        "                                                              data['edge_weights'].to(device),data['batch_index'].to(device)\n",
        "\n",
        "                predictions,_ = model(X,edge_index,edge_weights)\n",
        "                ### To keep things simple, we employ mean READOUT to produce a global\n",
        "                ### graph embedding. \n",
        "                train_loss = self.loss_func(torch_scatter.scatter_mean(predictions,batch_index,dim=0),Y,edge_index,edge_weights)\n",
        "\n",
        "                pbar.set_description(f'Train Loss: {train_loss.item():.3f}')\n",
        "                if torch.isnan(train_loss): raise ValueError('Training loss is NaN')\n",
        "\n",
        "                train_loss.backward()\n",
        "                opt.step()\n",
        "                opt.zero_grad()\n",
        "\n",
        "                ### Compute and save metrics.\n",
        "                metrics['train_loss'].append(train_loss.item())\n",
        "                for key in metrics_callback.keys():\n",
        "                        metrics['train_'+key].append(metrics_callback[key](torch_scatter.scatter_mean(predictions,batch_index,dim=0),\n",
        "                                                                    Y,edge_index,edge_weights))\n",
        "                        \n",
        "            ### Evaluation loop. \n",
        "            model.eval()\n",
        "            with torch.no_grad():\n",
        "                for data in test_loader:\n",
        "                    X,Y,edge_index,edge_weights,batch_index = data['X'].to(device),data['Y'].to(device),data['edge_index'].to(device),\\\n",
        "                                                              data['edge_weights'].to(device),data['batch_index'].to(device)\n",
        "\n",
        "                    predictions,_ = model(X,edge_index,edge_weights)\n",
        "                    train_loss = self.loss_func(torch_scatter.scatter_mean(predictions,batch_index,dim=0),Y,edge_index,edge_weights)\n",
        "\n",
        "                    pbar.set_description(f'Test Loss: {train_loss.item():.3f}')\n",
        "\n",
        "                    metrics['test_loss'].append(train_loss.item())\n",
        "                    for key in metrics_callback.keys():\n",
        "                          metrics['test_'+key].append(metrics_callback[key](torch_scatter.scatter_mean(predictions,batch_index,dim=0),\n",
        "                                                                    Y,edge_index,edge_weights))\n",
        "\n",
        "        os.makedirs('gnn_results',exist_ok=True)\n",
        "        title = kwargs.get('title','run_0')\n",
        "        os.makedirs('gnn_results/{}'.format(title),exist_ok=True)\n",
        "        torch.save(model.state_dict(),'gnn_results/{}/ckpt'.format(title))\n",
        "        torch.save(metrics,'gnn_results/{}/metrics'.format(title))\n",
        "\n",
        "        return predictions"
      ],
      "metadata": {
        "id": "QnVn6Roy5L4G"
      },
      "execution_count": 7,
      "outputs": []
    },
    {
      "cell_type": "code",
      "source": [
        "path = \"/content/drive/MyDrive/output7_new_sentiment.csv\"\n",
        "from google.colab import drive\n",
        "drive.mount('/content/drive')\n"
      ],
      "metadata": {
        "colab": {
          "base_uri": "https://localhost:8080/"
        },
        "id": "Z_ScoGCbPVRO",
        "outputId": "d9d55914-1592-42f2-987a-b108cb497fe5"
      },
      "execution_count": 8,
      "outputs": [
        {
          "output_type": "stream",
          "name": "stdout",
          "text": [
            "Mounted at /content/drive\n"
          ]
        }
      ]
    },
    {
      "cell_type": "code",
      "source": [
        "#emails = np.genfromtxt(path,dtype=None,names=True,usecols=np.arange(0,1434),skip_header=n)\n",
        "emails = pd.read_csv(path)"
      ],
      "metadata": {
        "id": "a8rvG6twlQgH"
      },
      "execution_count": null,
      "outputs": []
    },
    {
      "cell_type": "code",
      "source": [
        "display(emails.iloc[0])"
      ],
      "metadata": {
        "colab": {
          "base_uri": "https://localhost:8080/",
          "height": 255
        },
        "id": "dC2tSIjt_sqM",
        "outputId": "d6351764-2b3b-418a-daf7-219730f8a55e"
      },
      "execution_count": null,
      "outputs": [
        {
          "output_type": "display_data",
          "data": {
            "text/plain": [
              "Unnamed: 0                                                            0\n",
              "From                       ('cindy', 'dick', 'cynthia.dick@talgov.com')\n",
              "Sent                                                2011-08-18 12:12:00\n",
              "To                          [('fire', 'department', 'fire_department')]\n",
              "CC                                                                   []\n",
              "Subject                                                              []\n",
              "Attachments                                                          []\n",
              "Importance                                                           []\n",
              "Body                  ['I recently came across this quote and reflec...\n",
              "textblob_sentiment                         [0.275, 0.39583333333333337]\n",
              "nltk_sentiment                               [0.0, 0.149, 0.701, 0.149]\n",
              "flair_sentiment                                       POSITIVE (0.9575)\n",
              "GCP_sentiment         [0.30000001192092896, 1.7999999523162842, 0.02...\n",
              "Name: 0, dtype: object"
            ]
          },
          "metadata": {}
        }
      ]
    },
    {
      "cell_type": "code",
      "source": [
        "emails_2011_08 = emails.loc[0:1]\n",
        "display(emails_2011_08)\n",
        "display(type(emails_2011_08))"
      ],
      "metadata": {
        "id": "28bN5bs6BEX_",
        "colab": {
          "base_uri": "https://localhost:8080/",
          "height": 257
        },
        "outputId": "a60a9421-802a-4868-ca7c-2c52bb7d93cf"
      },
      "execution_count": null,
      "outputs": [
        {
          "output_type": "display_data",
          "data": {
            "text/html": [
              "\n",
              "  <div id=\"df-214ee278-b6fd-4284-831a-d3feb84fc219\">\n",
              "    <div class=\"colab-df-container\">\n",
              "      <div>\n",
              "<style scoped>\n",
              "    .dataframe tbody tr th:only-of-type {\n",
              "        vertical-align: middle;\n",
              "    }\n",
              "\n",
              "    .dataframe tbody tr th {\n",
              "        vertical-align: top;\n",
              "    }\n",
              "\n",
              "    .dataframe thead th {\n",
              "        text-align: right;\n",
              "    }\n",
              "</style>\n",
              "<table border=\"1\" class=\"dataframe\">\n",
              "  <thead>\n",
              "    <tr style=\"text-align: right;\">\n",
              "      <th></th>\n",
              "      <th>Unnamed: 0</th>\n",
              "      <th>From</th>\n",
              "      <th>Sent</th>\n",
              "      <th>To</th>\n",
              "      <th>CC</th>\n",
              "      <th>Subject</th>\n",
              "      <th>Attachments</th>\n",
              "      <th>Importance</th>\n",
              "      <th>Body</th>\n",
              "      <th>textblob_sentiment</th>\n",
              "      <th>nltk_sentiment</th>\n",
              "      <th>flair_sentiment</th>\n",
              "      <th>GCP_sentiment</th>\n",
              "    </tr>\n",
              "  </thead>\n",
              "  <tbody>\n",
              "    <tr>\n",
              "      <th>0</th>\n",
              "      <td>0</td>\n",
              "      <td>('cindy', 'dick', 'cynthia.dick@talgov.com')</td>\n",
              "      <td>2011-08-18 12:12:00</td>\n",
              "      <td>[('fire', 'department', 'fire_department')]</td>\n",
              "      <td>[]</td>\n",
              "      <td>[]</td>\n",
              "      <td>[]</td>\n",
              "      <td>[]</td>\n",
              "      <td>['I recently came across this quote and reflec...</td>\n",
              "      <td>[0.275, 0.39583333333333337]</td>\n",
              "      <td>[0.0, 0.149, 0.701, 0.149]</td>\n",
              "      <td>POSITIVE (0.9575)</td>\n",
              "      <td>[0.30000001192092896, 1.7999999523162842, 0.02...</td>\n",
              "    </tr>\n",
              "    <tr>\n",
              "      <th>1</th>\n",
              "      <td>1</td>\n",
              "      <td>('mark', 'decarlo', 'mark.decarlo@talgov.com')</td>\n",
              "      <td>2011-08-20 03:44:00</td>\n",
              "      <td>[('fire', 'department', 'fire_department')]</td>\n",
              "      <td>[]</td>\n",
              "      <td>[]</td>\n",
              "      <td>[]</td>\n",
              "      <td>[]</td>\n",
              "      <td>['']</td>\n",
              "      <td>[0.0, 0.0]</td>\n",
              "      <td>[0.0, 0.0, 0.0, 0.0]</td>\n",
              "      <td>empty body</td>\n",
              "      <td>[0.0, 0.0, 0.0]</td>\n",
              "    </tr>\n",
              "  </tbody>\n",
              "</table>\n",
              "</div>\n",
              "      <button class=\"colab-df-convert\" onclick=\"convertToInteractive('df-214ee278-b6fd-4284-831a-d3feb84fc219')\"\n",
              "              title=\"Convert this dataframe to an interactive table.\"\n",
              "              style=\"display:none;\">\n",
              "        \n",
              "  <svg xmlns=\"http://www.w3.org/2000/svg\" height=\"24px\"viewBox=\"0 0 24 24\"\n",
              "       width=\"24px\">\n",
              "    <path d=\"M0 0h24v24H0V0z\" fill=\"none\"/>\n",
              "    <path d=\"M18.56 5.44l.94 2.06.94-2.06 2.06-.94-2.06-.94-.94-2.06-.94 2.06-2.06.94zm-11 1L8.5 8.5l.94-2.06 2.06-.94-2.06-.94L8.5 2.5l-.94 2.06-2.06.94zm10 10l.94 2.06.94-2.06 2.06-.94-2.06-.94-.94-2.06-.94 2.06-2.06.94z\"/><path d=\"M17.41 7.96l-1.37-1.37c-.4-.4-.92-.59-1.43-.59-.52 0-1.04.2-1.43.59L10.3 9.45l-7.72 7.72c-.78.78-.78 2.05 0 2.83L4 21.41c.39.39.9.59 1.41.59.51 0 1.02-.2 1.41-.59l7.78-7.78 2.81-2.81c.8-.78.8-2.07 0-2.86zM5.41 20L4 18.59l7.72-7.72 1.47 1.35L5.41 20z\"/>\n",
              "  </svg>\n",
              "      </button>\n",
              "      \n",
              "  <style>\n",
              "    .colab-df-container {\n",
              "      display:flex;\n",
              "      flex-wrap:wrap;\n",
              "      gap: 12px;\n",
              "    }\n",
              "\n",
              "    .colab-df-convert {\n",
              "      background-color: #E8F0FE;\n",
              "      border: none;\n",
              "      border-radius: 50%;\n",
              "      cursor: pointer;\n",
              "      display: none;\n",
              "      fill: #1967D2;\n",
              "      height: 32px;\n",
              "      padding: 0 0 0 0;\n",
              "      width: 32px;\n",
              "    }\n",
              "\n",
              "    .colab-df-convert:hover {\n",
              "      background-color: #E2EBFA;\n",
              "      box-shadow: 0px 1px 2px rgba(60, 64, 67, 0.3), 0px 1px 3px 1px rgba(60, 64, 67, 0.15);\n",
              "      fill: #174EA6;\n",
              "    }\n",
              "\n",
              "    [theme=dark] .colab-df-convert {\n",
              "      background-color: #3B4455;\n",
              "      fill: #D2E3FC;\n",
              "    }\n",
              "\n",
              "    [theme=dark] .colab-df-convert:hover {\n",
              "      background-color: #434B5C;\n",
              "      box-shadow: 0px 1px 3px 1px rgba(0, 0, 0, 0.15);\n",
              "      filter: drop-shadow(0px 1px 2px rgba(0, 0, 0, 0.3));\n",
              "      fill: #FFFFFF;\n",
              "    }\n",
              "  </style>\n",
              "\n",
              "      <script>\n",
              "        const buttonEl =\n",
              "          document.querySelector('#df-214ee278-b6fd-4284-831a-d3feb84fc219 button.colab-df-convert');\n",
              "        buttonEl.style.display =\n",
              "          google.colab.kernel.accessAllowed ? 'block' : 'none';\n",
              "\n",
              "        async function convertToInteractive(key) {\n",
              "          const element = document.querySelector('#df-214ee278-b6fd-4284-831a-d3feb84fc219');\n",
              "          const dataTable =\n",
              "            await google.colab.kernel.invokeFunction('convertToInteractive',\n",
              "                                                     [key], {});\n",
              "          if (!dataTable) return;\n",
              "\n",
              "          const docLinkHtml = 'Like what you see? Visit the ' +\n",
              "            '<a target=\"_blank\" href=https://colab.research.google.com/notebooks/data_table.ipynb>data table notebook</a>'\n",
              "            + ' to learn more about interactive tables.';\n",
              "          element.innerHTML = '';\n",
              "          dataTable['output_type'] = 'display_data';\n",
              "          await google.colab.output.renderOutput(dataTable, element);\n",
              "          const docLink = document.createElement('div');\n",
              "          docLink.innerHTML = docLinkHtml;\n",
              "          element.appendChild(docLink);\n",
              "        }\n",
              "      </script>\n",
              "    </div>\n",
              "  </div>\n",
              "  "
            ],
            "text/plain": [
              "   Unnamed: 0  ...                                      GCP_sentiment\n",
              "0           0  ...  [0.30000001192092896, 1.7999999523162842, 0.02...\n",
              "1           1  ...                                    [0.0, 0.0, 0.0]\n",
              "\n",
              "[2 rows x 13 columns]"
            ]
          },
          "metadata": {}
        },
        {
          "output_type": "display_data",
          "data": {
            "text/plain": [
              "pandas.core.frame.DataFrame"
            ]
          },
          "metadata": {}
        }
      ]
    },
    {
      "cell_type": "code",
      "source": [
        "Gr = nx.Graph()"
      ],
      "metadata": {
        "id": "ppQFR9oPJNR8"
      },
      "execution_count": null,
      "outputs": []
    },
    {
      "cell_type": "code",
      "source": [
        "Gr.add_nodes_from([0,1])"
      ],
      "metadata": {
        "id": "DAhZOHyuJNoa"
      },
      "execution_count": null,
      "outputs": []
    },
    {
      "cell_type": "code",
      "source": [
        "display(Gr.nodes())"
      ],
      "metadata": {
        "colab": {
          "base_uri": "https://localhost:8080/",
          "height": 34
        },
        "id": "5yYI_6MxJN07",
        "outputId": "416bdbb1-6daf-4ed6-9ac1-71f134150fed"
      },
      "execution_count": null,
      "outputs": [
        {
          "output_type": "display_data",
          "data": {
            "text/plain": [
              "NodeView((0, 1))"
            ]
          },
          "metadata": {}
        }
      ]
    },
    {
      "cell_type": "code",
      "source": [
        "print(emails_2011_08.columns)"
      ],
      "metadata": {
        "colab": {
          "base_uri": "https://localhost:8080/"
        },
        "id": "z6Ao4xqHJN6-",
        "outputId": "8100f3a6-9102-4b86-a1f2-7e16655933db"
      },
      "execution_count": null,
      "outputs": [
        {
          "output_type": "stream",
          "name": "stdout",
          "text": [
            "Index(['Unnamed: 0', 'From', 'Sent', 'To', 'CC', 'Subject', 'Attachments',\n",
            "       'Importance', 'Body', 'textblob_sentiment', 'nltk_sentiment',\n",
            "       'flair_sentiment', 'GCP_sentiment'],\n",
            "      dtype='object')\n"
          ]
        }
      ]
    },
    {
      "cell_type": "code",
      "source": [
        "dict_email = emails_2011_08.to_dict()\n",
        "print(dict_email.get('From'))\n",
        "sent_people_node = {'Unnamed: 0':'-1', 'From': [], 'Sent': [], 'To': [], 'CC': [], 'Subject': [], 'Attachments': [], 'Importance': [],\n",
        "                    'Body': [], 'textblob_sentiment': [], 'nltk_setiment': [], 'flair_sentiment': [], 'GCP_sentiment': []}\n",
        "emails_2011_08_2 = emails_2011_08\n",
        "emails_2011_08_2.append(sent_people_node, ignore_index=True)\n",
        "display(emails_2011_08)\n"
      ],
      "metadata": {
        "colab": {
          "base_uri": "https://localhost:8080/",
          "height": 257
        },
        "id": "-uJpGJySZTcg",
        "outputId": "cda7b749-4d85-42b2-c01c-f014727725a8"
      },
      "execution_count": null,
      "outputs": [
        {
          "output_type": "stream",
          "name": "stdout",
          "text": [
            "{0: \"('cindy', 'dick', 'cynthia.dick@talgov.com')\", 1: \"('mark', 'decarlo', 'mark.decarlo@talgov.com')\"}\n"
          ]
        },
        {
          "output_type": "display_data",
          "data": {
            "text/html": [
              "\n",
              "  <div id=\"df-932584a7-987f-413e-b071-12e32b7c00aa\">\n",
              "    <div class=\"colab-df-container\">\n",
              "      <div>\n",
              "<style scoped>\n",
              "    .dataframe tbody tr th:only-of-type {\n",
              "        vertical-align: middle;\n",
              "    }\n",
              "\n",
              "    .dataframe tbody tr th {\n",
              "        vertical-align: top;\n",
              "    }\n",
              "\n",
              "    .dataframe thead th {\n",
              "        text-align: right;\n",
              "    }\n",
              "</style>\n",
              "<table border=\"1\" class=\"dataframe\">\n",
              "  <thead>\n",
              "    <tr style=\"text-align: right;\">\n",
              "      <th></th>\n",
              "      <th>Unnamed: 0</th>\n",
              "      <th>From</th>\n",
              "      <th>Sent</th>\n",
              "      <th>To</th>\n",
              "      <th>CC</th>\n",
              "      <th>Subject</th>\n",
              "      <th>Attachments</th>\n",
              "      <th>Importance</th>\n",
              "      <th>Body</th>\n",
              "      <th>textblob_sentiment</th>\n",
              "      <th>nltk_sentiment</th>\n",
              "      <th>flair_sentiment</th>\n",
              "      <th>GCP_sentiment</th>\n",
              "    </tr>\n",
              "  </thead>\n",
              "  <tbody>\n",
              "    <tr>\n",
              "      <th>0</th>\n",
              "      <td>0</td>\n",
              "      <td>('cindy', 'dick', 'cynthia.dick@talgov.com')</td>\n",
              "      <td>2011-08-18 12:12:00</td>\n",
              "      <td>[('fire', 'department', 'fire_department')]</td>\n",
              "      <td>[]</td>\n",
              "      <td>[]</td>\n",
              "      <td>[]</td>\n",
              "      <td>[]</td>\n",
              "      <td>['I recently came across this quote and reflec...</td>\n",
              "      <td>[0.275, 0.39583333333333337]</td>\n",
              "      <td>[0.0, 0.149, 0.701, 0.149]</td>\n",
              "      <td>POSITIVE (0.9575)</td>\n",
              "      <td>[0.30000001192092896, 1.7999999523162842, 0.02...</td>\n",
              "    </tr>\n",
              "    <tr>\n",
              "      <th>1</th>\n",
              "      <td>1</td>\n",
              "      <td>('mark', 'decarlo', 'mark.decarlo@talgov.com')</td>\n",
              "      <td>2011-08-20 03:44:00</td>\n",
              "      <td>[('fire', 'department', 'fire_department')]</td>\n",
              "      <td>[]</td>\n",
              "      <td>[]</td>\n",
              "      <td>[]</td>\n",
              "      <td>[]</td>\n",
              "      <td>['']</td>\n",
              "      <td>[0.0, 0.0]</td>\n",
              "      <td>[0.0, 0.0, 0.0, 0.0]</td>\n",
              "      <td>empty body</td>\n",
              "      <td>[0.0, 0.0, 0.0]</td>\n",
              "    </tr>\n",
              "  </tbody>\n",
              "</table>\n",
              "</div>\n",
              "      <button class=\"colab-df-convert\" onclick=\"convertToInteractive('df-932584a7-987f-413e-b071-12e32b7c00aa')\"\n",
              "              title=\"Convert this dataframe to an interactive table.\"\n",
              "              style=\"display:none;\">\n",
              "        \n",
              "  <svg xmlns=\"http://www.w3.org/2000/svg\" height=\"24px\"viewBox=\"0 0 24 24\"\n",
              "       width=\"24px\">\n",
              "    <path d=\"M0 0h24v24H0V0z\" fill=\"none\"/>\n",
              "    <path d=\"M18.56 5.44l.94 2.06.94-2.06 2.06-.94-2.06-.94-.94-2.06-.94 2.06-2.06.94zm-11 1L8.5 8.5l.94-2.06 2.06-.94-2.06-.94L8.5 2.5l-.94 2.06-2.06.94zm10 10l.94 2.06.94-2.06 2.06-.94-2.06-.94-.94-2.06-.94 2.06-2.06.94z\"/><path d=\"M17.41 7.96l-1.37-1.37c-.4-.4-.92-.59-1.43-.59-.52 0-1.04.2-1.43.59L10.3 9.45l-7.72 7.72c-.78.78-.78 2.05 0 2.83L4 21.41c.39.39.9.59 1.41.59.51 0 1.02-.2 1.41-.59l7.78-7.78 2.81-2.81c.8-.78.8-2.07 0-2.86zM5.41 20L4 18.59l7.72-7.72 1.47 1.35L5.41 20z\"/>\n",
              "  </svg>\n",
              "      </button>\n",
              "      \n",
              "  <style>\n",
              "    .colab-df-container {\n",
              "      display:flex;\n",
              "      flex-wrap:wrap;\n",
              "      gap: 12px;\n",
              "    }\n",
              "\n",
              "    .colab-df-convert {\n",
              "      background-color: #E8F0FE;\n",
              "      border: none;\n",
              "      border-radius: 50%;\n",
              "      cursor: pointer;\n",
              "      display: none;\n",
              "      fill: #1967D2;\n",
              "      height: 32px;\n",
              "      padding: 0 0 0 0;\n",
              "      width: 32px;\n",
              "    }\n",
              "\n",
              "    .colab-df-convert:hover {\n",
              "      background-color: #E2EBFA;\n",
              "      box-shadow: 0px 1px 2px rgba(60, 64, 67, 0.3), 0px 1px 3px 1px rgba(60, 64, 67, 0.15);\n",
              "      fill: #174EA6;\n",
              "    }\n",
              "\n",
              "    [theme=dark] .colab-df-convert {\n",
              "      background-color: #3B4455;\n",
              "      fill: #D2E3FC;\n",
              "    }\n",
              "\n",
              "    [theme=dark] .colab-df-convert:hover {\n",
              "      background-color: #434B5C;\n",
              "      box-shadow: 0px 1px 3px 1px rgba(0, 0, 0, 0.15);\n",
              "      filter: drop-shadow(0px 1px 2px rgba(0, 0, 0, 0.3));\n",
              "      fill: #FFFFFF;\n",
              "    }\n",
              "  </style>\n",
              "\n",
              "      <script>\n",
              "        const buttonEl =\n",
              "          document.querySelector('#df-932584a7-987f-413e-b071-12e32b7c00aa button.colab-df-convert');\n",
              "        buttonEl.style.display =\n",
              "          google.colab.kernel.accessAllowed ? 'block' : 'none';\n",
              "\n",
              "        async function convertToInteractive(key) {\n",
              "          const element = document.querySelector('#df-932584a7-987f-413e-b071-12e32b7c00aa');\n",
              "          const dataTable =\n",
              "            await google.colab.kernel.invokeFunction('convertToInteractive',\n",
              "                                                     [key], {});\n",
              "          if (!dataTable) return;\n",
              "\n",
              "          const docLinkHtml = 'Like what you see? Visit the ' +\n",
              "            '<a target=\"_blank\" href=https://colab.research.google.com/notebooks/data_table.ipynb>data table notebook</a>'\n",
              "            + ' to learn more about interactive tables.';\n",
              "          element.innerHTML = '';\n",
              "          dataTable['output_type'] = 'display_data';\n",
              "          await google.colab.output.renderOutput(dataTable, element);\n",
              "          const docLink = document.createElement('div');\n",
              "          docLink.innerHTML = docLinkHtml;\n",
              "          element.appendChild(docLink);\n",
              "        }\n",
              "      </script>\n",
              "    </div>\n",
              "  </div>\n",
              "  "
            ],
            "text/plain": [
              "   Unnamed: 0  ...                                      GCP_sentiment\n",
              "0           0  ...  [0.30000001192092896, 1.7999999523162842, 0.02...\n",
              "1           1  ...                                    [0.0, 0.0, 0.0]\n",
              "\n",
              "[2 rows x 13 columns]"
            ]
          },
          "metadata": {}
        }
      ]
    },
    {
      "cell_type": "code",
      "source": [
        "len(dict_email.get('From', '0'))\n",
        "d = dict_email.get('From')\n",
        "display(len(d))\n",
        "ds = list(d[1].split('()'))\n",
        "\n",
        "display(len(ds))\n",
        "display(type(d))\n",
        "\n"
      ],
      "metadata": {
        "colab": {
          "base_uri": "https://localhost:8080/",
          "height": 68
        },
        "id": "-HGAw8UO8VZS",
        "outputId": "aee7c39f-0d77-4056-c6e4-e24d8cf5ccfb"
      },
      "execution_count": null,
      "outputs": [
        {
          "output_type": "display_data",
          "data": {
            "text/plain": [
              "2"
            ]
          },
          "metadata": {}
        },
        {
          "output_type": "display_data",
          "data": {
            "text/plain": [
              "1"
            ]
          },
          "metadata": {}
        },
        {
          "output_type": "display_data",
          "data": {
            "text/plain": [
              "dict"
            ]
          },
          "metadata": {}
        }
      ]
    },
    {
      "cell_type": "code",
      "source": [
        "with open('nodes.txt','w') as f:\n",
        "  emails_2011_08.to_csv('/content/drive/MyDrive/nodes.txt', header=None, index=None, sep=' ', mode='a')"
      ],
      "metadata": {
        "id": "WnIq7pmUzRaI"
      },
      "execution_count": null,
      "outputs": []
    },
    {
      "cell_type": "code",
      "source": [
        "def create_edgelist(d):\n",
        "  # takes in a dictionary as an input\n",
        "  with open('edges.txt','w') as f:\n",
        "    for i in range(0,len(d)):\n",
        "      a = (list(d[i].split('()')))\n",
        "      display(f'{i} {-1*len(a)}\\n')\n",
        "      f.write(f'{i} {-1*len(a)}\\n')\n"
      ],
      "metadata": {
        "id": "sMT_0Yzp8WX_"
      },
      "execution_count": null,
      "outputs": []
    },
    {
      "cell_type": "code",
      "source": [
        "create_edgelist(d)"
      ],
      "metadata": {
        "colab": {
          "base_uri": "https://localhost:8080/",
          "height": 57
        },
        "id": "GF5TpdAvY9A0",
        "outputId": "1db54e78-198e-41f1-d23d-ac1dde7c57e9"
      },
      "execution_count": null,
      "outputs": [
        {
          "output_type": "display_data",
          "data": {
            "application/vnd.google.colaboratory.intrinsic+json": {
              "type": "string"
            },
            "text/plain": [
              "'0 -1\\n'"
            ]
          },
          "metadata": {}
        },
        {
          "output_type": "display_data",
          "data": {
            "application/vnd.google.colaboratory.intrinsic+json": {
              "type": "string"
            },
            "text/plain": [
              "'1 -1\\n'"
            ]
          },
          "metadata": {}
        }
      ]
    },
    {
      "cell_type": "code",
      "source": [
        "efile = open('edges.txt')\n",
        "lines = efile.readlines()\n",
        "for line in lines:\n",
        "  print(line)"
      ],
      "metadata": {
        "colab": {
          "base_uri": "https://localhost:8080/"
        },
        "id": "Tfdn79RGY8qR",
        "outputId": "5821a4b8-9882-4f6d-9614-1514c3cdc8e8"
      },
      "execution_count": null,
      "outputs": [
        {
          "output_type": "stream",
          "name": "stdout",
          "text": [
            "0 -1\n",
            "\n",
            "1 -1\n",
            "\n"
          ]
        }
      ]
    },
    {
      "cell_type": "code",
      "source": [
        "def get_Unique_Nodes(df):\n",
        "  alist = df['To']#.tolist()\n",
        "  to_list = []\n",
        "  from_list = []\n",
        "  CC_list = []\n",
        "  for x in alist:\n",
        "    result = re.findall('\\(.*?\\)', x)\n",
        "    for s in result:\n",
        "            to_list.append(s)\n",
        "  blist = df['From']#.tolist()\n",
        "  for x in blist:\n",
        "    result = re.findall('\\(.*?\\)', x)\n",
        "    for s in result:\n",
        "            from_list.append(s)\n",
        "  clist = df['CC']#.tolist()\n",
        "  for x in clist:\n",
        "    result = re.findall('\\(.*?\\)', x)\n",
        "    for s in result:\n",
        "            CC_list.append(s)\n",
        "\n",
        "  final_list = to_list + from_list + CC_list\n",
        "\n",
        "  for i in range(len(final_list)):  \n",
        "    final_list[i] = final_list[i].replace('[','')\n",
        "    final_list[i] = final_list[i].replace(']','')\n",
        "\n",
        "  Myfinallist = sorted(set(final_list))\n",
        "\n",
        "  return Myfinallist\n"
      ],
      "metadata": {
        "id": "5Sk3b0v4Y8y9"
      },
      "execution_count": null,
      "outputs": []
    },
    {
      "cell_type": "code",
      "source": [
        "nodes_2011_08 = get_Unique_Nodes(emails_2011_08)\n",
        "all_nodes = get_Unique_Nodes(emails)\n",
        "display(nodes_2011_08)\n",
        "#display(all_nodes)"
      ],
      "metadata": {
        "id": "IgU2Nem6Y8do",
        "colab": {
          "base_uri": "https://localhost:8080/",
          "height": 68
        },
        "outputId": "d41b401f-b3f7-400c-8d39-9cd182b177b9"
      },
      "execution_count": null,
      "outputs": [
        {
          "output_type": "display_data",
          "data": {
            "text/plain": [
              "[\"('cindy', 'dick', 'cynthia.dick@talgov.com')\",\n",
              " \"('fire', 'department', 'fire_department')\",\n",
              " \"('mark', 'decarlo', 'mark.decarlo@talgov.com')\"]"
            ]
          },
          "metadata": {}
        }
      ]
    },
    {
      "cell_type": "code",
      "source": [
        "def make_edgelist(df, nodes):\n",
        "  edgelist = set()\n",
        "  \n",
        "  for node in nodes:\n",
        "    if node != '':\n",
        "      #display(df.loc[df['From'] == node])\n",
        "      #display('split')\n",
        "      from_who = df.loc[df['From'] == node]\n",
        "      #print(type(from_who))\n",
        "      r = len(from_who.index)\n",
        "\n",
        "      for i in range(r):\n",
        "        j = from_who.iloc[i:i+1]\n",
        "        #str(j['CC'].tolist())\n",
        "        #display(type(j))\n",
        "        x = j['To']\n",
        "        y = j['CC']\n",
        "        #display(x)\n",
        "        index_1 = nodes.index(node)\n",
        "        for xi in x:\n",
        "          if xi != '':\n",
        "          #display(x)\n",
        "            result = re.findall('\\(.*?\\)', xi)\n",
        "            for s in result:\n",
        "              index_2 = nodes.index(s)\n",
        "              edgelist.add(tuple([index_1, index_2]))\n",
        "        for yi in y:\n",
        "          if yi != '':\n",
        "            result = re.findall('\\(.*?\\)', yi)\n",
        "            for s in result:\n",
        "              index_2 = nodes.index(s)\n",
        "              edgelist.add(tuple([index_1, index_2]))\n",
        "  \n",
        "  return edgelist"
      ],
      "metadata": {
        "id": "bY-n0n7eC9tg"
      },
      "execution_count": null,
      "outputs": []
    },
    {
      "cell_type": "code",
      "source": [
        "edge_2011_08 = make_edgelist(emails_2011_08, nodes_2011_08)"
      ],
      "metadata": {
        "id": "dA7WacW1C98Z"
      },
      "execution_count": null,
      "outputs": []
    },
    {
      "cell_type": "code",
      "source": [
        "e = emails.iloc[2:3]\n",
        "display(e)\n",
        "z = e['To'].tolist()\n",
        "z = str(z[0])\n",
        "zq =z\n",
        "display(z)\n",
        "display(len(z))\n",
        "zz = zq.replace('[','')\n",
        "zz = zz.replace(']','')\n",
        "result = re.findall('\\(.*?\\)', z)\n",
        "display(zz)\n",
        "display(result)\n"
      ],
      "metadata": {
        "colab": {
          "base_uri": "https://localhost:8080/",
          "height": 948
        },
        "id": "fz4DfII8C-F5",
        "outputId": "e3c724f4-9889-4faa-eae2-4dcb9db2d6ea"
      },
      "execution_count": null,
      "outputs": [
        {
          "output_type": "display_data",
          "data": {
            "text/html": [
              "\n",
              "  <div id=\"df-95aec46a-4ff7-4b34-9c44-d276a44144b7\">\n",
              "    <div class=\"colab-df-container\">\n",
              "      <div>\n",
              "<style scoped>\n",
              "    .dataframe tbody tr th:only-of-type {\n",
              "        vertical-align: middle;\n",
              "    }\n",
              "\n",
              "    .dataframe tbody tr th {\n",
              "        vertical-align: top;\n",
              "    }\n",
              "\n",
              "    .dataframe thead th {\n",
              "        text-align: right;\n",
              "    }\n",
              "</style>\n",
              "<table border=\"1\" class=\"dataframe\">\n",
              "  <thead>\n",
              "    <tr style=\"text-align: right;\">\n",
              "      <th></th>\n",
              "      <th>Unnamed: 0</th>\n",
              "      <th>From</th>\n",
              "      <th>Sent</th>\n",
              "      <th>To</th>\n",
              "      <th>CC</th>\n",
              "      <th>Subject</th>\n",
              "      <th>Attachments</th>\n",
              "      <th>Importance</th>\n",
              "      <th>Body</th>\n",
              "      <th>textblob_sentiment</th>\n",
              "      <th>nltk_sentiment</th>\n",
              "      <th>flair_sentiment</th>\n",
              "      <th>GCP_sentiment</th>\n",
              "    </tr>\n",
              "  </thead>\n",
              "  <tbody>\n",
              "    <tr>\n",
              "      <th>2</th>\n",
              "      <td>2</td>\n",
              "      <td>('deborah', 'heiter', 'deborah.heiter@talgov.c...</td>\n",
              "      <td>2012-01-20 16:41:00</td>\n",
              "      <td>[('bill', 'behenna', 'bill_behenna'), ('cathy'...</td>\n",
              "      <td>[]</td>\n",
              "      <td>[]</td>\n",
              "      <td>[]</td>\n",
              "      <td>[]</td>\n",
              "      <td>['', 'Deborah L. Heiter', 'Administrative Spec...</td>\n",
              "      <td>[0.07253787878787879, 0.3424242424242424]</td>\n",
              "      <td>[0.9318, 0.0, 0.93, 0.07]</td>\n",
              "      <td>POSITIVE (0.8154)</td>\n",
              "      <td>[0.0, 2.799999952316284, 0.009523809361620015]</td>\n",
              "    </tr>\n",
              "  </tbody>\n",
              "</table>\n",
              "</div>\n",
              "      <button class=\"colab-df-convert\" onclick=\"convertToInteractive('df-95aec46a-4ff7-4b34-9c44-d276a44144b7')\"\n",
              "              title=\"Convert this dataframe to an interactive table.\"\n",
              "              style=\"display:none;\">\n",
              "        \n",
              "  <svg xmlns=\"http://www.w3.org/2000/svg\" height=\"24px\"viewBox=\"0 0 24 24\"\n",
              "       width=\"24px\">\n",
              "    <path d=\"M0 0h24v24H0V0z\" fill=\"none\"/>\n",
              "    <path d=\"M18.56 5.44l.94 2.06.94-2.06 2.06-.94-2.06-.94-.94-2.06-.94 2.06-2.06.94zm-11 1L8.5 8.5l.94-2.06 2.06-.94-2.06-.94L8.5 2.5l-.94 2.06-2.06.94zm10 10l.94 2.06.94-2.06 2.06-.94-2.06-.94-.94-2.06-.94 2.06-2.06.94z\"/><path d=\"M17.41 7.96l-1.37-1.37c-.4-.4-.92-.59-1.43-.59-.52 0-1.04.2-1.43.59L10.3 9.45l-7.72 7.72c-.78.78-.78 2.05 0 2.83L4 21.41c.39.39.9.59 1.41.59.51 0 1.02-.2 1.41-.59l7.78-7.78 2.81-2.81c.8-.78.8-2.07 0-2.86zM5.41 20L4 18.59l7.72-7.72 1.47 1.35L5.41 20z\"/>\n",
              "  </svg>\n",
              "      </button>\n",
              "      \n",
              "  <style>\n",
              "    .colab-df-container {\n",
              "      display:flex;\n",
              "      flex-wrap:wrap;\n",
              "      gap: 12px;\n",
              "    }\n",
              "\n",
              "    .colab-df-convert {\n",
              "      background-color: #E8F0FE;\n",
              "      border: none;\n",
              "      border-radius: 50%;\n",
              "      cursor: pointer;\n",
              "      display: none;\n",
              "      fill: #1967D2;\n",
              "      height: 32px;\n",
              "      padding: 0 0 0 0;\n",
              "      width: 32px;\n",
              "    }\n",
              "\n",
              "    .colab-df-convert:hover {\n",
              "      background-color: #E2EBFA;\n",
              "      box-shadow: 0px 1px 2px rgba(60, 64, 67, 0.3), 0px 1px 3px 1px rgba(60, 64, 67, 0.15);\n",
              "      fill: #174EA6;\n",
              "    }\n",
              "\n",
              "    [theme=dark] .colab-df-convert {\n",
              "      background-color: #3B4455;\n",
              "      fill: #D2E3FC;\n",
              "    }\n",
              "\n",
              "    [theme=dark] .colab-df-convert:hover {\n",
              "      background-color: #434B5C;\n",
              "      box-shadow: 0px 1px 3px 1px rgba(0, 0, 0, 0.15);\n",
              "      filter: drop-shadow(0px 1px 2px rgba(0, 0, 0, 0.3));\n",
              "      fill: #FFFFFF;\n",
              "    }\n",
              "  </style>\n",
              "\n",
              "      <script>\n",
              "        const buttonEl =\n",
              "          document.querySelector('#df-95aec46a-4ff7-4b34-9c44-d276a44144b7 button.colab-df-convert');\n",
              "        buttonEl.style.display =\n",
              "          google.colab.kernel.accessAllowed ? 'block' : 'none';\n",
              "\n",
              "        async function convertToInteractive(key) {\n",
              "          const element = document.querySelector('#df-95aec46a-4ff7-4b34-9c44-d276a44144b7');\n",
              "          const dataTable =\n",
              "            await google.colab.kernel.invokeFunction('convertToInteractive',\n",
              "                                                     [key], {});\n",
              "          if (!dataTable) return;\n",
              "\n",
              "          const docLinkHtml = 'Like what you see? Visit the ' +\n",
              "            '<a target=\"_blank\" href=https://colab.research.google.com/notebooks/data_table.ipynb>data table notebook</a>'\n",
              "            + ' to learn more about interactive tables.';\n",
              "          element.innerHTML = '';\n",
              "          dataTable['output_type'] = 'display_data';\n",
              "          await google.colab.output.renderOutput(dataTable, element);\n",
              "          const docLink = document.createElement('div');\n",
              "          docLink.innerHTML = docLinkHtml;\n",
              "          element.appendChild(docLink);\n",
              "        }\n",
              "      </script>\n",
              "    </div>\n",
              "  </div>\n",
              "  "
            ],
            "text/plain": [
              "   Unnamed: 0  ...                                   GCP_sentiment\n",
              "2           2  ...  [0.0, 2.799999952316284, 0.009523809361620015]\n",
              "\n",
              "[1 rows x 13 columns]"
            ]
          },
          "metadata": {}
        },
        {
          "output_type": "display_data",
          "data": {
            "application/vnd.google.colaboratory.intrinsic+json": {
              "type": "string"
            },
            "text/plain": [
              "'[(\\'bill\\', \\'behenna\\', \\'bill_behenna\\'), (\\'cathy\\', \\'branch\\', \\'catherine.branch@talgov.com\\'), (\\'paula\\', \\'burn\\', \\'paula.burn@talgov.com\\'), (\\'stacey\\', \\'campbell\\', \\'stacey.campbell@talgov.com\\'), (\\'tom\\', \\'coe\\', \\'tom.coe@talgov.com\\'), (\\'cindy\\', \\'cook\\', \\'cindy_cook\\'), (\\'jim\\', \\'english\\', \\'james.english@talgov.com\\'), (\\'favors thompson, anita\\', \\'\\', \\'anita.favors.thompson@talgov.com\\'), (\\'carol\\', \\'gerrell\\', \\'carolyn.gerrell@talgov.com\\'), (\\'gil\\', \\'ziffer\\', \\'gil@ziffberry.com\\'), (\\'fred\\', \\'goodrow\\', \\'fred_goodrow\\'), (\\'phyllis\\', \\'griffin\\', \\'phyllis.griffin@talgov.com\\'), (\\'jacqueline\\', \\'hightower\\', \\'jacqueline.hightower@talgov.com\\'), (\\'holly\\', \\'\\', \\'holly_\\'), (\"m\\'lisa\", \\'ingram\\', \\'mlisa.ingram@talgov.com\\'), (\\'beth\\', \\'kirkland\\', \\'bkirkland@taledc.com\\'), (\\'raoul\\', \\'lavin\\', \\'raoul.lavin@talgov.com\\'), (\\'john\\', \\'marks\\', \\'john.marksiii@talgov.com\\'), (\\'rick\\', \\'mccraw\\', \\'richard.mccraw@talgov.com\\'), (\\'rick\\', \\'minor\\', \\'rick.minor@talgov.com\\'), (\\'ken\\', \\'morris\\', \\'morrisk@leoncountyfl.gov\\'), (\\'kara\\', \\'palmer\\', \\'kpalmer@taledc.com\\'), (\\'michael\\', \\'parker\\', \\'michael.parker@talgov.com\\'), (\\'lewis\\', \\'shelley\\', \\'lewis.shelley@talgov.com\\'), (\\'sherri\\', \\'sullivan\\', \\'sherri_sullivan\\'), (\\'wayne\\', \\'tedder\\', \\'wayne.tedder@talgov.com\\'), (\\'jay\\', \\'townsend\\', \\'jay.townsend@talgov.com\\'), (\\'leann\\', \\'watts-williams\\', \\'leann.watts.williams@talgov.com\\'), (\\'ann\\', \\'wild\\', \\'ann_wild\\'), (\\'young jr., edward\\', \\'\\', \\'young jr., edward_\\'), (\\'gil\\', \\'ziffer\\', \\'gil@ziffberry.com\\')]'"
            ]
          },
          "metadata": {}
        },
        {
          "output_type": "display_data",
          "data": {
            "text/plain": [
              "1439"
            ]
          },
          "metadata": {}
        },
        {
          "output_type": "display_data",
          "data": {
            "application/vnd.google.colaboratory.intrinsic+json": {
              "type": "string"
            },
            "text/plain": [
              "'(\\'bill\\', \\'behenna\\', \\'bill_behenna\\'), (\\'cathy\\', \\'branch\\', \\'catherine.branch@talgov.com\\'), (\\'paula\\', \\'burn\\', \\'paula.burn@talgov.com\\'), (\\'stacey\\', \\'campbell\\', \\'stacey.campbell@talgov.com\\'), (\\'tom\\', \\'coe\\', \\'tom.coe@talgov.com\\'), (\\'cindy\\', \\'cook\\', \\'cindy_cook\\'), (\\'jim\\', \\'english\\', \\'james.english@talgov.com\\'), (\\'favors thompson, anita\\', \\'\\', \\'anita.favors.thompson@talgov.com\\'), (\\'carol\\', \\'gerrell\\', \\'carolyn.gerrell@talgov.com\\'), (\\'gil\\', \\'ziffer\\', \\'gil@ziffberry.com\\'), (\\'fred\\', \\'goodrow\\', \\'fred_goodrow\\'), (\\'phyllis\\', \\'griffin\\', \\'phyllis.griffin@talgov.com\\'), (\\'jacqueline\\', \\'hightower\\', \\'jacqueline.hightower@talgov.com\\'), (\\'holly\\', \\'\\', \\'holly_\\'), (\"m\\'lisa\", \\'ingram\\', \\'mlisa.ingram@talgov.com\\'), (\\'beth\\', \\'kirkland\\', \\'bkirkland@taledc.com\\'), (\\'raoul\\', \\'lavin\\', \\'raoul.lavin@talgov.com\\'), (\\'john\\', \\'marks\\', \\'john.marksiii@talgov.com\\'), (\\'rick\\', \\'mccraw\\', \\'richard.mccraw@talgov.com\\'), (\\'rick\\', \\'minor\\', \\'rick.minor@talgov.com\\'), (\\'ken\\', \\'morris\\', \\'morrisk@leoncountyfl.gov\\'), (\\'kara\\', \\'palmer\\', \\'kpalmer@taledc.com\\'), (\\'michael\\', \\'parker\\', \\'michael.parker@talgov.com\\'), (\\'lewis\\', \\'shelley\\', \\'lewis.shelley@talgov.com\\'), (\\'sherri\\', \\'sullivan\\', \\'sherri_sullivan\\'), (\\'wayne\\', \\'tedder\\', \\'wayne.tedder@talgov.com\\'), (\\'jay\\', \\'townsend\\', \\'jay.townsend@talgov.com\\'), (\\'leann\\', \\'watts-williams\\', \\'leann.watts.williams@talgov.com\\'), (\\'ann\\', \\'wild\\', \\'ann_wild\\'), (\\'young jr., edward\\', \\'\\', \\'young jr., edward_\\'), (\\'gil\\', \\'ziffer\\', \\'gil@ziffberry.com\\')'"
            ]
          },
          "metadata": {}
        },
        {
          "output_type": "display_data",
          "data": {
            "text/plain": [
              "[\"('bill', 'behenna', 'bill_behenna')\",\n",
              " \"('cathy', 'branch', 'catherine.branch@talgov.com')\",\n",
              " \"('paula', 'burn', 'paula.burn@talgov.com')\",\n",
              " \"('stacey', 'campbell', 'stacey.campbell@talgov.com')\",\n",
              " \"('tom', 'coe', 'tom.coe@talgov.com')\",\n",
              " \"('cindy', 'cook', 'cindy_cook')\",\n",
              " \"('jim', 'english', 'james.english@talgov.com')\",\n",
              " \"('favors thompson, anita', '', 'anita.favors.thompson@talgov.com')\",\n",
              " \"('carol', 'gerrell', 'carolyn.gerrell@talgov.com')\",\n",
              " \"('gil', 'ziffer', 'gil@ziffberry.com')\",\n",
              " \"('fred', 'goodrow', 'fred_goodrow')\",\n",
              " \"('phyllis', 'griffin', 'phyllis.griffin@talgov.com')\",\n",
              " \"('jacqueline', 'hightower', 'jacqueline.hightower@talgov.com')\",\n",
              " \"('holly', '', 'holly_')\",\n",
              " '(\"m\\'lisa\", \\'ingram\\', \\'mlisa.ingram@talgov.com\\')',\n",
              " \"('beth', 'kirkland', 'bkirkland@taledc.com')\",\n",
              " \"('raoul', 'lavin', 'raoul.lavin@talgov.com')\",\n",
              " \"('john', 'marks', 'john.marksiii@talgov.com')\",\n",
              " \"('rick', 'mccraw', 'richard.mccraw@talgov.com')\",\n",
              " \"('rick', 'minor', 'rick.minor@talgov.com')\",\n",
              " \"('ken', 'morris', 'morrisk@leoncountyfl.gov')\",\n",
              " \"('kara', 'palmer', 'kpalmer@taledc.com')\",\n",
              " \"('michael', 'parker', 'michael.parker@talgov.com')\",\n",
              " \"('lewis', 'shelley', 'lewis.shelley@talgov.com')\",\n",
              " \"('sherri', 'sullivan', 'sherri_sullivan')\",\n",
              " \"('wayne', 'tedder', 'wayne.tedder@talgov.com')\",\n",
              " \"('jay', 'townsend', 'jay.townsend@talgov.com')\",\n",
              " \"('leann', 'watts-williams', 'leann.watts.williams@talgov.com')\",\n",
              " \"('ann', 'wild', 'ann_wild')\",\n",
              " \"('young jr., edward', '', 'young jr., edward_')\",\n",
              " \"('gil', 'ziffer', 'gil@ziffberry.com')\"]"
            ]
          },
          "metadata": {}
        }
      ]
    },
    {
      "cell_type": "code",
      "source": [
        "make_edgelist(emails,all_nodes)"
      ],
      "metadata": {
        "colab": {
          "base_uri": "https://localhost:8080/",
          "height": 283
        },
        "id": "u-BUkJp9lo3d",
        "outputId": "e1b63302-49b2-4474-a997-cc9c90355332"
      },
      "execution_count": null,
      "outputs": [
        {
          "output_type": "error",
          "ename": "ValueError",
          "evalue": "ignored",
          "traceback": [
            "\u001b[0;31m---------------------------------------------------------------------------\u001b[0m",
            "\u001b[0;31mValueError\u001b[0m                                Traceback (most recent call last)",
            "\u001b[0;32m<ipython-input-27-48a30889f0b2>\u001b[0m in \u001b[0;36m<module>\u001b[0;34m()\u001b[0m\n\u001b[0;32m----> 1\u001b[0;31m \u001b[0mmake_edgelist\u001b[0m\u001b[0;34m(\u001b[0m\u001b[0memails\u001b[0m\u001b[0;34m,\u001b[0m\u001b[0mall_nodes\u001b[0m\u001b[0;34m)\u001b[0m\u001b[0;34m\u001b[0m\u001b[0;34m\u001b[0m\u001b[0m\n\u001b[0m",
            "\u001b[0;32m<ipython-input-24-5441cd42ec7e>\u001b[0m in \u001b[0;36mmake_edgelist\u001b[0;34m(df, nodes)\u001b[0m\n\u001b[1;32m     23\u001b[0m             \u001b[0mresult\u001b[0m \u001b[0;34m=\u001b[0m \u001b[0mre\u001b[0m\u001b[0;34m.\u001b[0m\u001b[0mfindall\u001b[0m\u001b[0;34m(\u001b[0m\u001b[0;34m'\\(.*?\\)'\u001b[0m\u001b[0;34m,\u001b[0m \u001b[0mxi\u001b[0m\u001b[0;34m)\u001b[0m\u001b[0;34m\u001b[0m\u001b[0;34m\u001b[0m\u001b[0m\n\u001b[1;32m     24\u001b[0m             \u001b[0;32mfor\u001b[0m \u001b[0ms\u001b[0m \u001b[0;32min\u001b[0m \u001b[0mresult\u001b[0m\u001b[0;34m:\u001b[0m\u001b[0;34m\u001b[0m\u001b[0;34m\u001b[0m\u001b[0m\n\u001b[0;32m---> 25\u001b[0;31m               \u001b[0mindex_2\u001b[0m \u001b[0;34m=\u001b[0m \u001b[0mnodes\u001b[0m\u001b[0;34m.\u001b[0m\u001b[0mindex\u001b[0m\u001b[0;34m(\u001b[0m\u001b[0ms\u001b[0m\u001b[0;34m)\u001b[0m\u001b[0;34m\u001b[0m\u001b[0;34m\u001b[0m\u001b[0m\n\u001b[0m\u001b[1;32m     26\u001b[0m               \u001b[0medgelist\u001b[0m\u001b[0;34m.\u001b[0m\u001b[0madd\u001b[0m\u001b[0;34m(\u001b[0m\u001b[0mtuple\u001b[0m\u001b[0;34m(\u001b[0m\u001b[0;34m[\u001b[0m\u001b[0mindex_1\u001b[0m\u001b[0;34m,\u001b[0m \u001b[0mindex_2\u001b[0m\u001b[0;34m]\u001b[0m\u001b[0;34m)\u001b[0m\u001b[0;34m)\u001b[0m\u001b[0;34m\u001b[0m\u001b[0;34m\u001b[0m\u001b[0m\n\u001b[1;32m     27\u001b[0m         \u001b[0;32mfor\u001b[0m \u001b[0myi\u001b[0m \u001b[0;32min\u001b[0m \u001b[0my\u001b[0m\u001b[0;34m:\u001b[0m\u001b[0;34m\u001b[0m\u001b[0;34m\u001b[0m\u001b[0m\n",
            "\u001b[0;31mValueError\u001b[0m: \"('emma l fuder [hds]', ' ', 'emma l fuder [hds]_ ')\" is not in list"
          ]
        }
      ]
    },
    {
      "cell_type": "code",
      "source": [
        "def sep_by_year(df):\n",
        "  time = df['Sent'].tolist()\n",
        "  display(len(df))\n",
        "  year_list = []\n",
        "  initial_i = 0\n",
        "  currentyear = int((time[0])[0:4])\n",
        "  end = len(df)\n",
        "  for i in range(end):\n",
        "    #display(initial_i)\n",
        "    #display(i)\n",
        "    \n",
        "    s = time[i]\n",
        "    x = int(s[0:4])\n",
        "    #display(x)\n",
        "    #display('-----')\n",
        "    if x > currentyear:\n",
        "      year_span = df.iloc[initial_i:i]\n",
        "      year_list.append(year_span)\n",
        "      initial_i = i\n",
        "      currentyear = x\n",
        "  year_list.append(df.iloc[initial_i:end])\n",
        "  if len(year_list) == 1:\n",
        "    return df\n",
        "  return year_list"
      ],
      "metadata": {
        "id": "MhZChD5e1MiI"
      },
      "execution_count": null,
      "outputs": []
    },
    {
      "cell_type": "code",
      "source": [
        "#year = sep_by_year(emails_2011_08)\n",
        "#display(emails.iloc[2:1613])\n",
        "years = sep_by_year(emails)"
      ],
      "metadata": {
        "colab": {
          "base_uri": "https://localhost:8080/",
          "height": 34
        },
        "id": "JHA8JTnieEu4",
        "outputId": "fe0fbf5d-8fbe-4bce-8eb0-969b53883ee8"
      },
      "execution_count": null,
      "outputs": [
        {
          "output_type": "display_data",
          "data": {
            "text/plain": [
              "21814"
            ]
          },
          "metadata": {}
        }
      ]
    },
    {
      "cell_type": "code",
      "source": [
        "def sep_by_month(df):\n",
        "  time = df['Sent'].tolist()\n",
        "  display(len(df))\n",
        "  year_list = []\n",
        "  initial_i = 0\n",
        "  currentyear = int((time[0])[5:7])\n",
        "  end = len(df)\n",
        "  for i in range(end):\n",
        "    #display(initial_i)\n",
        "    #display(i)\n",
        "    \n",
        "    s = time[i]\n",
        "    x = int(s[5:7])\n",
        "    #display(x)\n",
        "    #display('-----')\n",
        "    if x > currentyear:\n",
        "      year_span = df.iloc[initial_i:i]\n",
        "      year_list.append(year_span)\n",
        "      initial_i = i\n",
        "      currentyear = x\n",
        "  year_list.append(df.iloc[initial_i:end])\n",
        "  if len(year_list) == 1:\n",
        "    return df\n",
        "  return year_list"
      ],
      "metadata": {
        "id": "uvjTygoQeE6_"
      },
      "execution_count": null,
      "outputs": []
    },
    {
      "cell_type": "code",
      "source": [
        "month_2012 = sep_by_month(years[1])\n",
        "display(type(month_2012))"
      ],
      "metadata": {
        "id": "5ubHFd9QeFCW",
        "colab": {
          "base_uri": "https://localhost:8080/",
          "height": 51
        },
        "outputId": "fde3c02d-eb7f-4112-b436-1876b78623d5"
      },
      "execution_count": null,
      "outputs": [
        {
          "output_type": "display_data",
          "data": {
            "text/plain": [
              "1608"
            ]
          },
          "metadata": {}
        },
        {
          "output_type": "display_data",
          "data": {
            "text/plain": [
              "list"
            ]
          },
          "metadata": {}
        }
      ]
    },
    {
      "cell_type": "code",
      "source": [
        "def sep_by_day(df):\n",
        "  time = df['Sent'].tolist()\n",
        "  display(len(df))\n",
        "  year_list = []\n",
        "  initial_i = 0\n",
        "  currentyear = int((time[0])[8:10])\n",
        "  end = len(df)\n",
        "  for i in range(end):\n",
        "    #display(initial_i)\n",
        "    #display(i)\n",
        "    \n",
        "    s = time[i]\n",
        "    x = int(s[8:10])\n",
        "    #display(x)\n",
        "    #display('-----')\n",
        "    if x > currentyear:\n",
        "      year_span = df.iloc[initial_i:i]\n",
        "      year_list.append(year_span)\n",
        "      initial_i = i\n",
        "      currentyear = x\n",
        "  year_list.append(df.iloc[initial_i:end])\n",
        "  if len(year_list) == 1:\n",
        "    return df\n",
        "  return year_list"
      ],
      "metadata": {
        "id": "40XQ5rdieFJt"
      },
      "execution_count": null,
      "outputs": []
    },
    {
      "cell_type": "code",
      "source": [
        "sep_by_day(month_2012[0])"
      ],
      "metadata": {
        "colab": {
          "base_uri": "https://localhost:8080/",
          "height": 170
        },
        "id": "ZKIuu6xEIMIe",
        "outputId": "4f1f6981-1f41-4dec-872d-ad8e570b017c"
      },
      "execution_count": null,
      "outputs": [
        {
          "output_type": "display_data",
          "data": {
            "text/plain": [
              "2"
            ]
          },
          "metadata": {}
        },
        {
          "output_type": "execute_result",
          "data": {
            "text/plain": [
              "[   Unnamed: 0  ...                                   GCP_sentiment\n",
              " 2           2  ...  [0.0, 2.799999952316284, 0.009523809361620015]\n",
              " \n",
              " [1 rows x 13 columns],\n",
              "    Unnamed: 0  ...                                      GCP_sentiment\n",
              " 3           3  ...  [0.20000000298023224, 2.799999952316284, 0.010...\n",
              " \n",
              " [1 rows x 13 columns]]"
            ]
          },
          "metadata": {},
          "execution_count": 33
        }
      ]
    },
    {
      "cell_type": "code",
      "source": [
        "grap = nx.DiGraph()\n",
        "r = []\n",
        "labeldict = {}\n",
        "for i in range(len(nodes_2011_08)):\n",
        "  display(i)\n",
        "  r.append(i)\n",
        "  labeldict[i] = nodes_2011_08[i]\n",
        "grap.add_nodes_from(r)\n",
        "grap.add_edges_from(edge_2011_08)\n",
        "nx.draw(grap,labels=labeldict, with_labels=True)"
      ],
      "metadata": {
        "colab": {
          "base_uri": "https://localhost:8080/",
          "height": 370
        },
        "id": "KpP9mKEnIMQr",
        "outputId": "e41652a3-2438-428b-a6c5-c26481a14a51"
      },
      "execution_count": null,
      "outputs": [
        {
          "output_type": "display_data",
          "data": {
            "text/plain": [
              "0"
            ]
          },
          "metadata": {}
        },
        {
          "output_type": "display_data",
          "data": {
            "text/plain": [
              "1"
            ]
          },
          "metadata": {}
        },
        {
          "output_type": "display_data",
          "data": {
            "text/plain": [
              "2"
            ]
          },
          "metadata": {}
        },
        {
          "output_type": "display_data",
          "data": {
            "image/png": "[encoded data removed]",
            "text/plain": [
              "<Figure size 432x288 with 1 Axes>"
            ]
          },
          "metadata": {}
        }
      ]
    },
    {
      "cell_type": "code",
      "source": [
        "def disp_Graph(nodes,edges, title):\n",
        "  G = nx.DiGraph()\n",
        "  r = []\n",
        "  labeldict = {}\n",
        "  for i in range(len(nodes)):\n",
        "    r.append(i)\n",
        "    labeldict[i] = nodes[i]\n",
        "  G.add_nodes_from(r)\n",
        "  G.add_edges_from(edges)\n",
        "  plt.figure()\n",
        "  plt.title(title)\n",
        "  nx.draw(G,labels=labeldict, with_labels=True)\n",
        "  plt.show()"
      ],
      "metadata": {
        "id": "s5PJUPfLWxXO"
      },
      "execution_count": null,
      "outputs": []
    },
    {
      "cell_type": "code",
      "source": [
        "disp_Graph(nodes_2011_08, edge_2011_08, '2011/08')\n",
        "display(edge_2011_08)"
      ],
      "metadata": {
        "colab": {
          "base_uri": "https://localhost:8080/",
          "height": 281
        },
        "id": "65J14BsuXQGp",
        "outputId": "670d925b-bd92-40b8-ef05-1bae9c7b6b20"
      },
      "execution_count": null,
      "outputs": [
        {
          "output_type": "display_data",
          "data": {
            "image/png": "[encoded data removed]",
            "text/plain": [
              "<Figure size 432x288 with 1 Axes>"
            ]
          },
          "metadata": {}
        },
        {
          "output_type": "display_data",
          "data": {
            "text/plain": [
              "{(0, 1), (2, 1)}"
            ]
          },
          "metadata": {}
        }
      ]
    },
    {
      "cell_type": "code",
      "source": [
        "for i in range(0,11):\n",
        "  nodes_2012_01 = get_Unique_Nodes(month_2012[i])\n",
        "  edges_2012_01 = make_edgelist(month_2012[i], nodes_2012_01)\n",
        "  #display(nodes_2012_01)\n",
        "  #display(edges_2012_01)\n",
        "  #disp_Graph(nodes_2012_01,edges_2012_01)"
      ],
      "metadata": {
        "id": "BM1-QdjJkQpu"
      },
      "execution_count": null,
      "outputs": []
    },
    {
      "cell_type": "code",
      "source": [
        "nodes_2012_01 = get_Unique_Nodes(month_2012[0])\n",
        "edges_2012_01 = make_edgelist(month_2012[0], nodes_2012_01)\n",
        "display(nodes_2012_01)\n",
        "display(edges_2012_01)\n",
        "disp_Graph(nodes_2012_01,edges_2012_01)"
      ],
      "metadata": {
        "colab": {
          "base_uri": "https://localhost:8080/",
          "height": 1000
        },
        "id": "2vhQ-SDikQ5e",
        "outputId": "a90c6f03-7783-4e8a-c6c1-181e1ca4ebea"
      },
      "execution_count": null,
      "outputs": [
        {
          "output_type": "display_data",
          "data": {
            "text/plain": [
              "['(\"m\\'lisa\", \\'ingram\\', \\'mlisa.ingram@talgov.com\\')',\n",
              " \"('ann', 'wild', 'ann_wild')\",\n",
              " \"('beth', 'kirkland', 'bkirkland@taledc.com')\",\n",
              " \"('bill', 'behenna', 'bill_behenna')\",\n",
              " \"('carol', 'gerrell', 'carolyn.gerrell@talgov.com')\",\n",
              " \"('cathy', 'branch', 'catherine.branch@talgov.com')\",\n",
              " \"('cindy', 'cook', 'cindy_cook')\",\n",
              " \"('deborah', 'heiter', 'deborah.heiter@talgov.com')\",\n",
              " \"('f18020', 'l18020', 'brook.pace@deo.myflorida.com')\",\n",
              " \"('f496', 'l496', 'llaubscher@eflorida.com')\",\n",
              " \"('favors thompson, anita', '', 'anita.favors.thompson@talgov.com')\",\n",
              " \"('fred', 'goodrow', 'fred_goodrow')\",\n",
              " \"('gil', 'ziffer', 'gil@ziffberry.com')\",\n",
              " \"('holly', '', 'holly_')\",\n",
              " \"('jacqueline', 'hightower', 'jacqueline.hightower@talgov.com')\",\n",
              " \"('james', 'hosman', 'james_hosman')\",\n",
              " \"('jay', 'townsend', 'jay.townsend@talgov.com')\",\n",
              " \"('jim', 'english', 'james.english@talgov.com')\",\n",
              " \"('john', 'marks', 'john.marksiii@talgov.com')\",\n",
              " \"('jt', 'burnette', 'jt@inkbridge.com')\",\n",
              " \"('kara', 'palmer', 'kpalmer@taledc.com')\",\n",
              " \"('ken', 'morris', 'morrisk@leoncountyfl.gov')\",\n",
              " \"('kim', 'rivers', 'kim@inkbridge.com')\",\n",
              " \"('leann', 'watts-williams', 'leann.watts.williams@talgov.com')\",\n",
              " \"('lewis', 'shelley', 'lewis.shelley@talgov.com')\",\n",
              " \"('michael', 'parker', 'michael.parker@talgov.com')\",\n",
              " \"('paula', 'burn', 'paula.burn@talgov.com')\",\n",
              " \"('phyllis', 'griffin', 'phyllis.griffin@talgov.com')\",\n",
              " \"('raoul', 'lavin', 'raoul.lavin@talgov.com')\",\n",
              " \"('rick', 'mccraw', 'richard.mccraw@talgov.com')\",\n",
              " \"('rick', 'minor', 'rick.minor@talgov.com')\",\n",
              " \"('sherri', 'sullivan', 'sherri_sullivan')\",\n",
              " \"('stacey', 'campbell', 'stacey.campbell@talgov.com')\",\n",
              " \"('todd', 'kocourek', 'todd_kocourek')\",\n",
              " \"('tom', 'coe', 'tom.coe@talgov.com')\",\n",
              " \"('wayne', 'tedder', 'wayne.tedder@talgov.com')\",\n",
              " \"('young jr., edward', '', 'young jr., edward_')\"]"
            ]
          },
          "metadata": {}
        },
        {
          "output_type": "display_data",
          "data": {
            "text/plain": [
              "{(2, 8),\n",
              " (2, 9),\n",
              " (2, 15),\n",
              " (2, 19),\n",
              " (2, 22),\n",
              " (2, 25),\n",
              " (2, 33),\n",
              " (7, 0),\n",
              " (7, 1),\n",
              " (7, 2),\n",
              " (7, 3),\n",
              " (7, 4),\n",
              " (7, 5),\n",
              " (7, 6),\n",
              " (7, 10),\n",
              " (7, 11),\n",
              " (7, 12),\n",
              " (7, 13),\n",
              " (7, 14),\n",
              " (7, 16),\n",
              " (7, 17),\n",
              " (7, 18),\n",
              " (7, 20),\n",
              " (7, 21),\n",
              " (7, 23),\n",
              " (7, 24),\n",
              " (7, 25),\n",
              " (7, 26),\n",
              " (7, 27),\n",
              " (7, 28),\n",
              " (7, 29),\n",
              " (7, 30),\n",
              " (7, 31),\n",
              " (7, 32),\n",
              " (7, 34),\n",
              " (7, 35),\n",
              " (7, 36)}"
            ]
          },
          "metadata": {}
        },
        {
          "output_type": "display_data",
          "data": {
            "image/png": "[encoded data removed]",
            "text/plain": [
              "<Figure size 432x288 with 1 Axes>"
            ]
          },
          "metadata": {}
        }
      ]
    },
    {
      "cell_type": "code",
      "source": [
        "nodes_2012_02 = get_Unique_Nodes(month_2012[11])\n",
        "edges_2012_02 = make_edgelist(month_2012[11], nodes_2012_02)\n",
        "display(nodes_2012_02)\n",
        "display(edges_2012_02)"
      ],
      "metadata": {
        "id": "4InYF3xfkRGJ",
        "colab": {
          "base_uri": "https://localhost:8080/",
          "height": 215
        },
        "outputId": "95f03644-4641-4019-b672-592883740165"
      },
      "execution_count": null,
      "outputs": [
        {
          "output_type": "error",
          "ename": "IndexError",
          "evalue": "ignored",
          "traceback": [
            "\u001b[0;31m---------------------------------------------------------------------------\u001b[0m",
            "\u001b[0;31mIndexError\u001b[0m                                Traceback (most recent call last)",
            "\u001b[0;32m<ipython-input-56-393ca3436de6>\u001b[0m in \u001b[0;36m<module>\u001b[0;34m()\u001b[0m\n\u001b[0;32m----> 1\u001b[0;31m \u001b[0mnodes_2012_02\u001b[0m \u001b[0;34m=\u001b[0m \u001b[0mget_Unique_Nodes\u001b[0m\u001b[0;34m(\u001b[0m\u001b[0mmonth_2012\u001b[0m\u001b[0;34m[\u001b[0m\u001b[0;36m12\u001b[0m\u001b[0;34m]\u001b[0m\u001b[0;34m)\u001b[0m\u001b[0;34m\u001b[0m\u001b[0;34m\u001b[0m\u001b[0m\n\u001b[0m\u001b[1;32m      2\u001b[0m \u001b[0medges_2012_02\u001b[0m \u001b[0;34m=\u001b[0m \u001b[0mmake_edgelist\u001b[0m\u001b[0;34m(\u001b[0m\u001b[0mmonth_2012\u001b[0m\u001b[0;34m[\u001b[0m\u001b[0;36m12\u001b[0m\u001b[0;34m]\u001b[0m\u001b[0;34m,\u001b[0m \u001b[0mnodes_2012_02\u001b[0m\u001b[0;34m)\u001b[0m\u001b[0;34m\u001b[0m\u001b[0;34m\u001b[0m\u001b[0m\n\u001b[1;32m      3\u001b[0m \u001b[0mdisplay\u001b[0m\u001b[0;34m(\u001b[0m\u001b[0mnodes_2012_02\u001b[0m\u001b[0;34m)\u001b[0m\u001b[0;34m\u001b[0m\u001b[0;34m\u001b[0m\u001b[0m\n\u001b[1;32m      4\u001b[0m \u001b[0mdisplay\u001b[0m\u001b[0;34m(\u001b[0m\u001b[0medges_2012_02\u001b[0m\u001b[0;34m)\u001b[0m\u001b[0;34m\u001b[0m\u001b[0;34m\u001b[0m\u001b[0m\n",
            "\u001b[0;31mIndexError\u001b[0m: list index out of range"
          ]
        }
      ]
    },
    {
      "cell_type": "code",
      "source": [
        "!echo \"# GNN_CRA\" >> README.md\n",
        "!git init\n",
        "!git add README.md\n",
        "!git commit -m \"first commit\"\n",
        "!git branch -M main\n",
        "!git remote add origin https://github.com/manmclir/GNN_CRA.git\n",
        "!git push -u origin main"
      ],
      "metadata": {
        "colab": {
          "base_uri": "https://localhost:8080/"
        },
        "id": "Mw-mVVlOLe4x",
        "outputId": "1f473983-ab4f-4353-fc2f-a2d640f9cc84"
      },
      "execution_count": 13,
      "outputs": [
        {
          "output_type": "stream",
          "name": "stdout",
          "text": [
            "Initialized empty Git repository in /content/.git/\n",
            "\n",
            "*** Please tell me who you are.\n",
            "\n",
            "Run\n",
            "\n",
            "  git config --global user.email \"you@example.com\"\n",
            "  git config --global user.name \"Your Name\"\n",
            "\n",
            "to set your account's default identity.\n",
            "Omit --global to set the identity only in this repository.\n",
            "\n",
            "fatal: unable to auto-detect email address (got 'root@a3ac64e07a39.(none)')\n",
            "error: refname refs/heads/master not found\n",
            "fatal: Branch rename failed\n",
            "error: src refspec main does not match any.\n",
            "error: failed to push some refs to 'https://github.com/manmclir/GNN_CRA.git'\n"
          ]
        }
      ]
    }
  ]
}